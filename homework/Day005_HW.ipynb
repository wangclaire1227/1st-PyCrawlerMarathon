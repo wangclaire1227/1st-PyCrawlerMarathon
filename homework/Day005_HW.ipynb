{
 "cells": [
  {
   "cell_type": "markdown",
   "metadata": {},
   "source": [
    "# API 資料串接 - 以 Dcard API 實作範例\n",
    "\n",
    "* 利用 urllib 套件的 urlretrieve 方法下載檔案\n",
    "* 了解 Python File I/O 讀檔、寫檔的用法\n",
    "* 能用運用資源管理器 With Statement 優化寫法"
   ]
  },
  {
   "cell_type": "markdown",
   "metadata": {},
   "source": [
    "## 作業目標\n",
    "\n",
    "* 請利用 API: https://www.dcard.tw/_api/forums/pet/posts?popular=true 回答下列問題：\n",
    "\n",
    "1. 這個 API 一次會回傳幾筆資料？每一筆資料包含哪些欄位？\n",
    "2. 取出每一筆資料的「標題」、「貼文時間」、「留言人數」、「按讚人數」\n",
    "3. 計算熱門/非熱門文章的「平均留言人數」與「平均按讚人數」"
   ]
  },
  {
   "cell_type": "code",
   "execution_count": 42,
   "metadata": {},
   "outputs": [
    {
     "name": "stdout",
     "output_type": "stream",
     "text": [
      "API一次回傳30筆資料\n",
      "\n",
      "每一筆資料包含欄位: ['id', 'title', 'excerpt', 'anonymousSchool', 'anonymousDepartment', 'pinned', 'forumId', 'replyId', 'createdAt', 'updatedAt', 'commentCount', 'likeCount', 'withNickname', 'tags', 'topics', 'meta', 'forumName', 'forumAlias', 'gender', 'school', 'replyTitle', 'mediaMeta', 'reactions', 'hidden', 'customStyle', 'isSuspiciousAccount', 'layout', 'withImages', 'withVideos', 'media', 'reportReasonText', 'postAvatar']\n"
     ]
    }
   ],
   "source": [
    "# 1. 這個 API 一次會回傳幾筆資料？每一筆資料包含哪些欄位？\n",
    "\n",
    "import requests\n",
    "r = requests.get('https://www.dcard.tw/_api/forums/pet/posts?popular=true')\n",
    "\n",
    "import json\n",
    "data = json.loads(r.text)\n",
    "\n",
    "\n",
    "print(f\"API一次回傳{len(data)}筆資料\\n\")\n",
    "print(\"每一筆資料包含欄位:\", list(data[0].keys()))"
   ]
  },
  {
   "cell_type": "code",
   "execution_count": 33,
   "metadata": {},
   "outputs": [
    {
     "name": "stdout",
     "output_type": "stream",
     "text": [
      "標題: 網美鼠不是誰都可以當的！ 貼文時間: 2019-12-19T16:42:04.027Z 留言人數: 60 按讚人數: 1623\n",
      "標題: 我意外領養了三個小小孩 貼文時間: 2019-12-19T17:58:34.297Z 留言人數: 30 按讚人數: 1369\n",
      "標題: 狄卡是不是被貓咪統治了？ 貼文時間: 2019-12-19T15:50:22.979Z 留言人數: 32 按讚人數: 639\n",
      "標題: 我來了我來了 貼文時間: 2019-12-19T09:59:26.763Z 留言人數: 14 按讚人數: 373\n",
      "標題: 你要睡覺還是道歉 貼文時間: 2019-12-19T14:01:29.458Z 留言人數: 13 按讚人數: 291\n",
      "標題: #圖 朋友的美國短毛貓: 屎拔拔 💕 貼文時間: 2019-12-19T14:20:21.856Z 留言人數: 14 按讚人數: 161\n",
      "標題: 讓男友很愛的小三貓 貼文時間: 2019-12-19T18:20:59.462Z 留言人數: 4 按讚人數: 133\n",
      "標題: 小小貓長大後... 貼文時間: 2019-12-20T12:23:49.237Z 留言人數: 7 按讚人數: 72\n",
      "標題: 那是我的蛋蛋R 貼文時間: 2019-12-20T09:24:51.855Z 留言人數: 1 按讚人數: 67\n",
      "標題: 曬兔寶 貼文時間: 2019-12-20T02:30:54.736Z 留言人數: 9 按讚人數: 59\n",
      "標題: 你知道北京在執行「文明養犬令」嗎？ 貼文時間: 2019-12-20T12:25:54.345Z 留言人數: 11 按讚人數: 41\n",
      "標題: 米漿來了🐶 貼文時間: 2019-12-19T15:46:53.655Z 留言人數: 9 按讚人數: 35\n",
      "標題: 買豆柴養了七個月後是柴犬 貼文時間: 2019-12-20T02:37:06.502Z 留言人數: 22 按讚人數: 34\n",
      "標題: 養蛇ㄧ時爽，一直養蛇一直爽 貼文時間: 2019-12-20T03:59:12.481Z 留言人數: 7 按讚人數: 31\n",
      "標題: 從浪浪變成屁貓的故事 貼文時間: 2019-12-19T17:55:52.519Z 留言人數: 0 按讚人數: 29\n",
      "標題: 懷疑貓生 貼文時間: 2019-12-20T05:34:47.824Z 留言人數: 5 按讚人數: 27\n",
      "標題: 兔子怎麼過聖誕🎄 貼文時間: 2019-12-20T04:27:57.843Z 留言人數: 0 按讚人數: 26\n",
      "標題: 肥美的貓貓🐱 貼文時間: 2019-12-20T02:32:56.628Z 留言人數: 0 按讚人數: 25\n",
      "標題: 貓咪變烏龜 貼文時間: 2019-12-20T04:58:06.964Z 留言人數: 1 按讚人數: 23\n",
      "標題: 養貓新手：為什麼我的貓愛亂大便尿尿？ 貼文時間: 2019-12-20T04:17:47.162Z 留言人數: 0 按讚人數: 22\n",
      "標題: #厭世貓 我這次被我的貓翻白眼 貼文時間: 2019-12-20T12:56:21.743Z 留言人數: 1 按讚人數: 21\n",
      "標題: 我姐的貓🐱 貼文時間: 2019-12-19T17:00:24.378Z 留言人數: 2 按讚人數: 21\n",
      "標題: 醜貓十八變 貼文時間: 2019-12-20T06:42:56.530Z 留言人數: 3 按讚人數: 20\n",
      "標題: 分享我們家貼布🐶 #圖 貼文時間: 2019-12-20T07:44:45.790Z 留言人數: 2 按讚人數: 19\n",
      "標題: #領養文 #小狗 #高雄旗山 貼文時間: 2019-12-20T06:59:18.425Z 留言人數: 0 按讚人數: 19\n",
      "標題: 毛巾的時尚 貼文時間: 2019-12-19T13:14:57.142Z 留言人數: 2 按讚人數: 19\n",
      "標題: 一眠大一寸 貼文時間: 2019-12-20T09:50:49.447Z 留言人數: 0 按讚人數: 17\n",
      "標題: 黃金鼠的一歲生日大餐 貼文時間: 2019-12-19T16:16:13.074Z 留言人數: 2 按讚人數: 17\n",
      "標題: #圖多 浮誇的胖貓 貼文時間: 2019-12-20T10:47:59.429Z 留言人數: 0 按讚人數: 13\n",
      "標題: 遇見你的幾天 貼文時間: 2019-12-19T16:40:42.565Z 留言人數: 2 按讚人數: 13\n"
     ]
    }
   ],
   "source": [
    "# 2. 取出每一筆資料的「標題」、「貼文時間」、「留言人數」、「按讚人數」\n",
    "\n",
    "for d in data:\n",
    "    print('標題:', d['title'], '貼文時間:', d['createdAt'], '留言人數:', d['commentCount'], '按讚人數:', d['likeCount'])"
   ]
  },
  {
   "cell_type": "code",
   "execution_count": 47,
   "metadata": {
    "scrolled": true
   },
   "outputs": [
    {
     "name": "stdout",
     "output_type": "stream",
     "text": [
      "熱門平均留言人數： 8 熱門平均按讚人數： 166\n",
      "非熱門平均留言人數： 2 非熱門平均按讚人數： 11\n"
     ]
    }
   ],
   "source": [
    "# 3. 計算熱門/非熱門文章的「平均留言人數」與「平均按讚人數」\n",
    "r1 = requests.get(\"https://www.dcard.tw/_api/forums/pet/posts?popular=true\")\n",
    "like_true = json.loads(r1.text)\n",
    "r2 = requests.get(\"https://www.dcard.tw/_api/forums/pet/posts?popular=false\")\n",
    "like_flase = json.loads(r2.text)\n",
    "\n",
    "sumComm = 0\n",
    "sumLike = 0\n",
    "\n",
    "for d in like_true:\n",
    "    sumComm += d['commentCount']\n",
    "    sumLike += d['likeCount']\n",
    "print(\"熱門平均留言人數：\",int(sumComm/len(data)),\"熱門平均按讚人數：\",int(sumLike/len(data)))\n",
    "\n",
    "sumComm = 0\n",
    "sumLike = 0\n",
    "\n",
    "for d in like_flase:\n",
    "    sumComm += d['commentCount']\n",
    "    sumLike += d['likeCount']\n",
    "print(\"非熱門平均留言人數：\",int(sumComm/len(data)),\"非熱門平均按讚人數：\",int(sumLike/len(data)))"
   ]
  },
  {
   "cell_type": "code",
   "execution_count": null,
   "metadata": {},
   "outputs": [],
   "source": []
  },
  {
   "cell_type": "code",
   "execution_count": null,
   "metadata": {},
   "outputs": [],
   "source": []
  }
 ],
 "metadata": {
  "kernelspec": {
   "display_name": "Python 3",
   "language": "python",
   "name": "python3"
  },
  "language_info": {
   "codemirror_mode": {
    "name": "ipython",
    "version": 3
   },
   "file_extension": ".py",
   "mimetype": "text/x-python",
   "name": "python",
   "nbconvert_exporter": "python",
   "pygments_lexer": "ipython3",
   "version": "3.7.4"
  }
 },
 "nbformat": 4,
 "nbformat_minor": 2
}
