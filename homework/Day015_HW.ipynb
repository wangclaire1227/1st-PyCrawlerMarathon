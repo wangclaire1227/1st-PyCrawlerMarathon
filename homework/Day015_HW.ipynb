{
 "cells": [
  {
   "cell_type": "markdown",
   "metadata": {},
   "source": [
    "# 台灣銀行牌告匯率爬蟲練習\n",
    "## 範例1： 練習爬取台幣對其他貨幣匯率資料"
   ]
  },
  {
   "cell_type": "code",
   "execution_count": 47,
   "metadata": {},
   "outputs": [],
   "source": [
    "import requests\n",
    "from bs4 import BeautifulSoup\n",
    "from datetime import datetime\n",
    "import pandas as pd\n",
    "import matplotlib.pyplot as plt\n",
    "import re"
   ]
  },
  {
   "cell_type": "markdown",
   "metadata": {},
   "source": [
    "### 進入台灣銀行牌告匯率網頁：https://rate.bot.com.tw/xrt?Lang=zh-TW ，擷取當日台幣對美金的匯率資訊"
   ]
  },
  {
   "cell_type": "code",
   "execution_count": 30,
   "metadata": {},
   "outputs": [
    {
     "name": "stdout",
     "output_type": "stream",
     "text": [
      "\r\n",
      "美金(USD)\r\n",
      "\n",
      "即時現金買入: 29.95, 即時現金賣出: 30.62\n"
     ]
    }
   ],
   "source": [
    "# 進入台灣銀行牌告匯率網頁，查看當日匯率資料\n",
    "url = \"https://rate.bot.com.tw/xrt?Lang=zh-TW\"\n",
    "resp = requests.get(url)\n",
    "resp.encoding = 'utf-8'\n",
    "# print(resp.text)  # 如有需要，列印出網頁原始碼\n",
    "\n",
    "html = BeautifulSoup(resp.text, \"lxml\")\n",
    "rate_table = html.find(name='table', attrs={'title':'牌告匯率'}).find(name='tbody').find_all(name='tr')\n",
    "\n",
    "# 查詢美金(也就是匯率表的第一個元素)對台幣的匯率\n",
    "currency = rate_table[0].find(name='div', attrs={'class':'visible-phone print_hide'})\n",
    "print(currency.get_text().replace(\" \", \"\"))  # 去掉空白\n",
    "\n",
    "buy_rate = rate_table[0].find(name='td', attrs={'data-table':'本行現金買入'})\n",
    "sell_rate = rate_table[0].find(name='td', attrs={'data-table':'本行現金賣出'})\n",
    "print(\"即時現金買入: %s, 即時現金賣出: %s\" % (buy_rate.get_text(), sell_rate.get_text()))"
   ]
  },
  {
   "cell_type": "markdown",
   "metadata": {},
   "source": [
    "### 作業part 1：請參考上面的範例，試著爬取所有貨幣對台幣的匯率"
   ]
  },
  {
   "cell_type": "code",
   "execution_count": 41,
   "metadata": {},
   "outputs": [],
   "source": [
    "url = 'https://rate.bot.com.tw/xrt?Lang=zh-TW'\n",
    "resp = requests.get(url)\n",
    "resp.encoding = 'utf-8'\n",
    "html = BeautifulSoup(resp.text, \"lxml\")\n",
    "rate_table =  html.find(name='table', attrs={'title':'牌告匯率'}).find(name='tbody').find_all('tr')"
   ]
  },
  {
   "cell_type": "code",
   "execution_count": 45,
   "metadata": {},
   "outputs": [
    {
     "name": "stdout",
     "output_type": "stream",
     "text": [
      "美金 (USD) 現金買入：29.95, 現金賣出：30.62\n",
      "港幣 (HKD) 現金買入：3.732, 現金賣出：3.936\n",
      "英鎊 (GBP) 現金買入：38.93, 現金賣出：41.05\n",
      "澳幣 (AUD) 現金買入：20.5, 現金賣出：21.28\n",
      "加拿大幣 (CAD) 現金買入：22.56, 現金賣出：23.47\n",
      "新加坡幣 (SGD) 現金買入：21.81, 現金賣出：22.72\n",
      "瑞士法郎 (CHF) 現金買入：30.07, 現金賣出：31.27\n",
      "日圓 (JPY) 現金買入：0.2701, 現金賣出：0.2829\n",
      "南非幣 (ZAR) 現金買入：-, 現金賣出：-\n",
      "瑞典幣 (SEK) 現金買入：2.85, 現金賣出：3.37\n",
      "紐元 (NZD) 現金買入：19.51, 現金賣出：20.36\n",
      "泰幣 (THB) 現金買入：0.8821, 現金賣出：1.0701\n",
      "菲國比索 (PHP) 現金買入：0.5249, 現金賣出：0.6579\n",
      "印尼幣 (IDR) 現金買入：0.00183, 現金賣出：0.00253\n",
      "歐元 (EUR) 現金買入：32.99, 現金賣出：34.33\n",
      "韓元 (KRW) 現金買入：0.02383, 現金賣出：0.02773\n",
      "越南盾 (VND) 現金買入：0.00094, 現金賣出：0.00144\n",
      "馬來幣 (MYR) 現金買入：6.186, 現金賣出：7.83\n",
      "人民幣 (CNY) 現金買入：4.219, 現金賣出：4.381\n"
     ]
    }
   ],
   "source": [
    "for tr in rate_table:\n",
    "    currency = tr.find('div', attrs={'class':'visible-phone print_hide'}).text.strip()\n",
    "    buy_rate = tr.find(name='td', attrs={'data-table':'本行現金買入'}).text.strip()\n",
    "    sell_rate = tr.find(name='td', attrs={'data-table':'本行現金賣出'}).text.strip()\n",
    "    print('{} 現金買入：{}, 現金賣出：{}'.format(currency,buy_rate,sell_rate))  "
   ]
  },
  {
   "cell_type": "markdown",
   "metadata": {},
   "source": [
    "## 範例2：爬取一個月的美金對台幣歷史匯率資料，並畫出趨勢圖"
   ]
  },
  {
   "cell_type": "code",
   "execution_count": 49,
   "metadata": {
    "scrolled": true
   },
   "outputs": [
    {
     "name": "stdout",
     "output_type": "stream",
     "text": [
      "\r\n",
      "美金(USD)\r\n",
      "\n"
     ]
    },
    {
     "data": {
      "text/plain": [
       "<Figure size 720x576 with 0 Axes>"
      ]
     },
     "metadata": {},
     "output_type": "display_data"
    },
    {
     "data": {
      "image/png": "[encoded data removed]",
      "text/plain": [
       "<Figure size 432x288 with 1 Axes>"
      ]
     },
     "metadata": {
      "needs_background": "light"
     },
     "output_type": "display_data"
    }
   ],
   "source": [
    "# 先到牌告匯率首頁，爬取所有貨幣的種類\n",
    "url = \"https://rate.bot.com.tw/xrt?Lang=zh-TW\"\n",
    "resp = requests.get(url)\n",
    "resp.encoding = 'utf-8'\n",
    "html = BeautifulSoup(resp.text, \"lxml\")\n",
    "rate_table = html.find(name='table', attrs={'title':'牌告匯率'}).find(name='tbody').find_all(name='tr')\n",
    "\n",
    "# 擷取匯率表格，把美金(也就是匯率表的第一個元素)擷取出來，查詢其歷史匯率\n",
    "currency = rate_table[0].find(name='div', attrs={'class':'visible-phone print_hide'})\n",
    "print(currency.get_text().replace(\" \", \"\"))  # 貨幣種類\n",
    "\n",
    "# 針對美金，找到其「歷史匯率」的首頁 \n",
    "history_link = rate_table[0].find(name='td', attrs={'data-table':'歷史匯率'})\n",
    "history_rate_link = \"https://rate.bot.com.tw\" + history_link.a[\"href\"]  # 該貨幣的歷史資料首頁\n",
    "\n",
    "#\n",
    "# 到貨幣歷史匯率網頁，選則該貨幣的「歷史區間」，送出查詢後，觀察其網址變化情形，再試著抓取其歷史匯率資料\n",
    "#\n",
    "# 用「quote/年-月」去取代網址內容，就可以連到該貨幣的歷史資料\n",
    "quote_history_url = history_rate_link.replace(\"history\", \"quote/2019-08\")\n",
    "resp = requests.get(quote_history_url)\n",
    "resp.encoding = 'utf-8'\n",
    "history = BeautifulSoup(resp.text, \"lxml\")\n",
    "history_table = history.find(name='table', attrs={'title':'歷史本行營業時間牌告匯率'}).find(name='tbody').find_all(name='tr')\n",
    "\n",
    "#\n",
    "# 擷取到歷史匯率資料後，把資料彙整起來並畫出趨勢圖\n",
    "#\n",
    "date_history = list()\n",
    "history_buy = list()\n",
    "history_sell = list()\n",
    "\n",
    "for history_rate in history_table:\n",
    "    # 擷取日期資料\n",
    "    date_string = history_rate.a.get_text()\n",
    "    date = datetime.strptime(date_string, '%Y/%M/%d').strftime('%Y/%M/%d')  # 轉換日期格式\n",
    "    date_history.append(date)  # 日期歷史資料\n",
    "\n",
    "    history_ex_rate = history_rate.find_all(name='td', attrs={'class':'rate-content-cash text-right print_table-cell'})\n",
    "    history_buy.append(float(history_ex_rate[0].get_text()))  # 歷史買入匯率\n",
    "    history_sell.append(float(history_ex_rate[1].get_text()))  # 歷史賣出匯率\n",
    "\n",
    "# 將匯率資料建成dataframe形式\n",
    "HistoryExchangeRate = pd.DataFrame({'date': date_history,\n",
    "                                    'buy_rate':history_buy,\n",
    "                                    'sell_rate':history_sell})\n",
    "\n",
    "HistoryExchangeRate = HistoryExchangeRate.set_index('date')  # 指定日期欄位為datafram的index\n",
    "HistoryExchangeRate = HistoryExchangeRate.sort_index(ascending=True)\n",
    "\n",
    "# 畫出歷史匯率軌跡圖\n",
    "plt.figure(figsize=(10, 8))\n",
    "HistoryExchangeRate[['buy_rate','sell_rate']].plot()  # x=['date'], y=[['buy_rate','sell_rate']] \n",
    "plt.legend(loc=\"upper left\")\n",
    "plt.show()"
   ]
  },
  {
   "cell_type": "markdown",
   "metadata": {},
   "source": [
    "### 作業part 2：爬取每種貨幣對台幣的一個月歷史匯率資料，並畫出趨勢圖"
   ]
  },
  {
   "cell_type": "code",
   "execution_count": null,
   "metadata": {},
   "outputs": [
    {
     "name": "stdout",
     "output_type": "stream",
     "text": [
      "\n",
      "美金(USD)\n",
      "\n",
      "美金 (USD)\n"
     ]
    },
    {
     "data": {
      "text/plain": [
       "<Figure size 720x576 with 0 Axes>"
      ]
     },
     "metadata": {},
     "output_type": "display_data"
    },
    {
     "data": {
      "image/png": "[encoded data removed]",
      "text/plain": [
       "<Figure size 432x288 with 1 Axes>"
      ]
     },
     "metadata": {
      "needs_background": "light"
     },
     "output_type": "display_data"
    },
    {
     "name": "stdout",
     "output_type": "stream",
     "text": [
      "\n",
      "美金(USD)\n",
      "\n",
      "港幣 (HKD)\n"
     ]
    },
    {
     "data": {
      "text/plain": [
       "<Figure size 720x576 with 0 Axes>"
      ]
     },
     "metadata": {},
     "output_type": "display_data"
    },
    {
     "data": {
      "image/png": "[encoded data removed]",
      "text/plain": [
       "<Figure size 432x288 with 1 Axes>"
      ]
     },
     "metadata": {
      "needs_background": "light"
     },
     "output_type": "display_data"
    },
    {
     "name": "stdout",
     "output_type": "stream",
     "text": [
      "\n",
      "美金(USD)\n",
      "\n",
      "英鎊 (GBP)\n"
     ]
    },
    {
     "data": {
      "text/plain": [
       "<Figure size 720x576 with 0 Axes>"
      ]
     },
     "metadata": {},
     "output_type": "display_data"
    },
    {
     "data": {
      "image/png": "[encoded data removed]",
      "text/plain": [
       "<Figure size 432x288 with 1 Axes>"
      ]
     },
     "metadata": {
      "needs_background": "light"
     },
     "output_type": "display_data"
    },
    {
     "name": "stdout",
     "output_type": "stream",
     "text": [
      "\n",
      "美金(USD)\n",
      "\n",
      "澳幣 (AUD)\n"
     ]
    },
    {
     "data": {
      "text/plain": [
       "<Figure size 720x576 with 0 Axes>"
      ]
     },
     "metadata": {},
     "output_type": "display_data"
    },
    {
     "data": {
      "image/png": "[encoded data removed]",
      "text/plain": [
       "<Figure size 432x288 with 1 Axes>"
      ]
     },
     "metadata": {
      "needs_background": "light"
     },
     "output_type": "display_data"
    },
    {
     "name": "stdout",
     "output_type": "stream",
     "text": [
      "\r\n",
      "美金(USD)\r\n",
      "\n"
     ]
    }
   ],
   "source": [
    "# 先到牌告匯率首頁，爬取所有貨幣的種類\n",
    "url = 'https://rate.bot.com.tw/xrt?Lang=zh-TW'\n",
    "resp = requests.get(url)\n",
    "resp.encoding = 'utf-8'\n",
    "html =  BeautifulSoup(res.text, 'lxml')\n",
    "rate_table = html.find(name='table', attrs={'title':'牌告匯率'}).find(name='tbody').find_all('tr')\n",
    "\n",
    "\n",
    "for tr in rate_table:\n",
    "    country = tr.find('div', attrs={'class':'visible-phone print_hide'}).text.strip()\n",
    "    print(currency.get_text().replace(\" \", \"\"))  # 貨幣種類\n",
    "    moneyname = re.search(r'[A-Z]+',country).group()\n",
    "    url = 'https://rate.bot.com.tw/xrt/quote/2019-12/' + moneyname\n",
    "    resp = requests.get(url)\n",
    "    soup = BeautifulSoup(resp.text, 'lxml')\n",
    "    \n",
    "    date_history = list()\n",
    "    history_buy = list()\n",
    "    history_sell = list()\n",
    "\n",
    "    \n",
    "    table = soup.find(name='table', attrs={'class':'table table-striped table-bordered table-condensed table-hover'}).tbody.find_all('tr')\n",
    "    for tr in table:\n",
    "        date = tr.find('td',class_=\"text-center\").a.text\n",
    "        buy = tr.find_all(name='td', attrs={'class':'rate-content-cash text-right print_table-cell'})[0].text\n",
    "        sell =  tr.find_all(name='td', attrs={'class':'rate-content-cash text-right print_table-cell'})[1].text\n",
    "        date_history.append(datetime.strptime(date, '%Y/%M/%d').strftime('%Y/%M/%d'))\n",
    "        history_buy.append(float(buy))\n",
    "        history_sell.append(float(sell))\n",
    "        \n",
    "    # 把三個list作成DataFrame\n",
    "    df = pd.DataFrame({'Date': date_history, 'Buy': history_buy, 'Sell': history_sell})\n",
    "    df = df.set_index('Date')\n",
    "    df = df.sort_index(ascending=True)\n",
    "    print(country)\n",
    "    \n",
    "    #畫\n",
    "    plt.figure(figsize=(10, 8))\n",
    "    df[['Buy','Sell']].plot()  # x=['date'], y=[['buy_rate','sell_rate']] \n",
    "    plt.legend(loc=\"upper left\")\n",
    "    plt.show()"
   ]
  },
  {
   "cell_type": "code",
   "execution_count": null,
   "metadata": {},
   "outputs": [],
   "source": []
  }
 ],
 "metadata": {
  "kernelspec": {
   "display_name": "Python 3",
   "language": "python",
   "name": "python3"
  },
  "language_info": {
   "codemirror_mode": {
    "name": "ipython",
    "version": 3
   },
   "file_extension": ".py",
   "mimetype": "text/x-python",
   "name": "python",
   "nbconvert_exporter": "python",
   "pygments_lexer": "ipython3",
   "version": "3.7.4"
  }
 },
 "nbformat": 4,
 "nbformat_minor": 2
}
